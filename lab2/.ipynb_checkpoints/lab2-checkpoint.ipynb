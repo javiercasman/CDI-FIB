{
 "cells": [
  {
   "cell_type": "markdown",
   "id": "51a468a6",
   "metadata": {},
   "source": [
    "**Codificació i descodificació**"
   ]
  },
  {
   "cell_type": "code",
   "execution_count": 1,
   "id": "512fadaf",
   "metadata": {},
   "outputs": [],
   "source": [
    "def encode(txta,corr):\n",
    "    txt = txta.split() #suponemos q son palabras separadas por espacios\n",
    "    coded = []\n",
    "    for c in txt:\n",
    "        for x in corr:\n",
    "            if c in x[0]:\n",
    "                coded.append(x[1])\n",
    "    txtb = \" \".join(coded)\n",
    "    return txtb"
   ]
  },
  {
   "cell_type": "code",
   "execution_count": 2,
   "id": "422765bd",
   "metadata": {},
   "outputs": [],
   "source": [
    "def decode(txtb,corr):\n",
    "    txt = txtb.split()\n",
    "    decoded = []\n",
    "    for c in txt:\n",
    "        for x in corr:\n",
    "            if c in x[1]:\n",
    "                decoded.append(x[0])\n",
    "    txta = \" \".join(decoded)\n",
    "    return txta"
   ]
  },
  {
   "cell_type": "code",
   "execution_count": 61,
   "id": "720f58a2",
   "metadata": {},
   "outputs": [],
   "source": [
    "def canonical_code(lst,q,alf):\n",
    "    pairs = list(zip(alf,lst))\n",
    "    dct = dict(pairs)\n",
    "    sorted_dct = dict(sorted(dct.items(), key=lambda item: int(item[1])))\n",
    "#     return sorted_dct\n",
    "    coded = []\n",
    "    last = \"\"\n",
    "    print(sorted_dct)\n",
    "    for key, value in sorted_dct.items():\n",
    "        if last == \"\":\n",
    "            aux = \"\"\n",
    "            zeros = aux.zfill(int(value))\n",
    "            coded.append(zeros)\n",
    "            last = zeros\n",
    "            #last_key = key es necesario??\n",
    "            last_value = value\n",
    "        else:\n",
    "            if is_valid(coded[-1]):\n",
    "                binary = increment_binary_string(coded[-1])\n",
    "#                 decimal = int(coded[-1], 2)\n",
    "#                 decimal += 1\n",
    "#                 binary = bin(decimal)[2:]\n",
    "            else:\n",
    "                raise ValueError(\"ERROR: no existeix cap codi amb aquesta propietat.\")\n",
    "#             if last_value < value:\n",
    "            aux = int(value) - int(last_value)\n",
    "#                 if aux > 1:\n",
    "#                     raise ValueError(\"ERROR: no existeix cap codi amb aquesta propietat.\")\n",
    "            for _ in range(aux):\n",
    "                binary += \"0\"\n",
    "            coded.append(binary)\n",
    "            last = binary\n",
    "            last_value = value\n",
    "#             last_key = key\n",
    "    keys = sorted_dct.keys()\n",
    "    return list(zip(keys,coded)) #vale esto no vale pq las letras no siempre estan en el mismo\n",
    "#orden, hay que "
   ]
  },
  {
   "cell_type": "code",
   "execution_count": null,
   "id": "bcf10721",
   "metadata": {},
   "outputs": [],
   "source": [
    "def cannonical_code(lst,q,alf):\n",
    "    sorted_lst = lst.sort()\n",
    "    coded = []\n",
    "    for long in sorted_lst:\n",
    "        codeword = \"\"\n",
    "        if len(coded) == 0:\n",
    "            for _ in range(long):\n",
    "                codeword += alf[0]\n",
    "        else:\n",
    "            #primero incrementamos\n",
    "            i = lst.index(last_codeword[-1])#vemos cual es la ultima letra y la cambiamos por la\n",
    "            #siguiente en el orden alfabético\n",
    "            #i == index de la última letra del codeword en lst\n",
    "            codeword = last_codeword\n",
    "            while i >= q-1:\n",
    "                \n",
    "            else: #significa q podremos cambiar el último carácter, no habrá overflow\n",
    "                codeword = codeword[:-1] + alf[i+1]\n",
    "            #luego comprobamos si hay que añadir un 0\n",
    "        last_long = long\n",
    "        last_codeword = codeword"
   ]
  },
  {
   "cell_type": "code",
   "execution_count": 199,
   "id": "432d50ff",
   "metadata": {},
   "outputs": [],
   "source": [
    "s = \"hola como estamos\"\n",
    "s = s[:-1] + \"l\"\n"
   ]
  },
  {
   "cell_type": "code",
   "execution_count": 4,
   "id": "a520b0d2",
   "metadata": {},
   "outputs": [],
   "source": [
    "def is_valid(x): # no se puede dar el caso que dados x bits, estos sean todos 1.\n",
    "    if \"0\" in x:\n",
    "        return True\n",
    "    else:\n",
    "        return False"
   ]
  },
  {
   "cell_type": "code",
   "execution_count": 24,
   "id": "9f247073",
   "metadata": {},
   "outputs": [],
   "source": [
    "def increment_binary_string(s):\n",
    "    carry = False\n",
    "    bits = list(s[::-1])\n",
    "    for i, bit in enumerate(bits):\n",
    "        carry = bit != \"0\"\n",
    "        if bit == \"0\":\n",
    "            bits[i] = \"1\"\n",
    "            break\n",
    "        else:\n",
    "            bits[i] = \"0\"\n",
    "    if carry:\n",
    "        bits.append(\"1\")\n",
    "    return \"\".join(bits[::-1])"
   ]
  },
  {
   "cell_type": "code",
   "execution_count": 181,
   "id": "e030abc4",
   "metadata": {},
   "outputs": [
    {
     "name": "stdout",
     "output_type": "stream",
     "text": [
      "{'b': '2', 'h': '3', 'o': '3', 'a': '5', 'c': '5', 'j': '6', 'f': '8', 'd': '10', 'e': '10', 'g': '12', 'n': '12', 'k': '13', 'm': '13', 'i': '14', 'l': '14'}\n",
      "[('b', '00'), ('h', '010'), ('o', '011'), ('a', '10000'), ('c', '10001'), ('j', '100100'), ('f', '10010100'), ('d', '1001010100'), ('e', '1001010101'), ('g', '100101011000'), ('n', '100101011001'), ('k', '1001010110100'), ('m', '1001010110101'), ('i', '10010101101100'), ('l', '10010101101101')]\n"
     ]
    }
   ],
   "source": [
    "lst = [\"5\", \"2\", \"5\", \"10\", \"10\", \"8\", \"12\", \"3\", \"14\", \"6\", \"13\", \"14\", \"13\", \"12\", \"3\"]\n",
    "alf = [\"a\", \"b\", \"c\", \"d\", \"e\", \"f\", \"g\", \"h\", \"i\", \"j\", \"k\", \"l\", \"m\", \"n\", \"o\"]\n",
    "q = len(alf)\n",
    "code = canonical_code(lst,q,alf)\n",
    "print(code)\n",
    "#ESTÁ MAL!!!!!!!!!!! no es q tengamos q transformar las letras en binario, es q hay q\n",
    "#generar palabras de las longitudes de lst USANDO LAS LETRAS DEL ALFABETO ALF (ver cuestionario)"
   ]
  },
  {
   "cell_type": "markdown",
   "id": "7c291e32",
   "metadata": {},
   "source": [
    "**Codi de Shannon**"
   ]
  },
  {
   "cell_type": "code",
   "execution_count": 179,
   "id": "339a68e9",
   "metadata": {},
   "outputs": [],
   "source": [
    "import math\n",
    "def shannon_code(src):\n",
    "    total = 0\n",
    "    for x in src:\n",
    "        total += x[1]\n",
    "    probs = {}\n",
    "    for (a,w) in src:\n",
    "        prob = w/total\n",
    "        probs[a] = prob\n",
    "    sorted_probs = dict(sorted(probs.items(), key=lambda item: item[1], reverse=True))\n",
    "    acum = 0.0\n",
    "    coded = []\n",
    "    for key, value in sorted_probs.items():\n",
    "        li = math.ceil(-math.log2(value))\n",
    "        if(acum==0.0):\n",
    "            codeword = \"0\"\n",
    "            for _ in range(li):\n",
    "                codeword += \"0\"\n",
    "            coded.append(codeword)\n",
    "        else:\n",
    "            codeword = float_bin(acum,li)\n",
    "            coded.append(codeword[1:])\n",
    "        acum += value\n",
    "    keys = sorted_probs.keys()\n",
    "    return list(zip(keys,coded))"
   ]
  },
  {
   "cell_type": "code",
   "execution_count": 175,
   "id": "c05fda45",
   "metadata": {},
   "outputs": [],
   "source": [
    "def float_bin(n,decs):\n",
    "    # split() separates whole number and decimal\n",
    "    # part and stores it in two separate variables\n",
    "    whole, dec = str(n).split(\".\")\n",
    " \n",
    "    # Convert both whole number and decimal \n",
    "    # part from string type to integer type\n",
    "    whole = int(whole)\n",
    "    dec = int(dec)\n",
    " \n",
    "    # Convert the whole number part to it's\n",
    "    # respective binary form and remove the\n",
    "    # \"0b\" from it.\n",
    "    res = bin(whole).lstrip(\"0b\") + \".\"\n",
    " \n",
    "    # Iterate the number of times, we want\n",
    "    # the number of decimal places to be\n",
    "    for x in range(decs):\n",
    " \n",
    "        # Multiply the decimal value by 2\n",
    "        # and separate the whole number part\n",
    "        # and decimal part\n",
    "        num = str((decimal_converter(dec)) * 2).split(\".\")\n",
    "        if len(num) == 1:\n",
    "            num.append(\"0\")\n",
    "        whole, dec = num\n",
    " \n",
    "        # Convert the decimal part\n",
    "        # to integer again\n",
    "        dec = int(dec)\n",
    " \n",
    "        # Keep adding the integer parts\n",
    "        # receive to the result variable\n",
    "        res += whole\n",
    " \n",
    "    return res"
   ]
  },
  {
   "cell_type": "code",
   "execution_count": 156,
   "id": "b9028a54",
   "metadata": {},
   "outputs": [],
   "source": [
    "def decimal_converter(num):\n",
    "    while num >= 1:\n",
    "        num /= 10\n",
    "    return num"
   ]
  },
  {
   "cell_type": "code",
   "execution_count": 180,
   "id": "3d328c6e",
   "metadata": {},
   "outputs": [
    {
     "name": "stdout",
     "output_type": "stream",
     "text": [
      "[('e', '000'), ('b', '010'), ('f', '100'), ('a', '1011'), ('c', '1100'), ('d', '1110')]\n"
     ]
    }
   ],
   "source": [
    "src = [(\"a\",10),(\"b\",20),(\"c\",10),(\"d\",10),(\"e\",35),(\"f\",15)]\n",
    "coded = shannon_code(src)\n",
    "print(coded)"
   ]
  }
 ],
 "metadata": {
  "kernelspec": {
   "display_name": "Python 3 (ipykernel)",
   "language": "python",
   "name": "python3"
  },
  "language_info": {
   "codemirror_mode": {
    "name": "ipython",
    "version": 3
   },
   "file_extension": ".py",
   "mimetype": "text/x-python",
   "name": "python",
   "nbconvert_exporter": "python",
   "pygments_lexer": "ipython3",
   "version": "3.8.10"
  }
 },
 "nbformat": 4,
 "nbformat_minor": 5
}
