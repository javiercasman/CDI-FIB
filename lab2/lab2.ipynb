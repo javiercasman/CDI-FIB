{
 "cells": [
  {
   "cell_type": "markdown",
   "id": "51a468a6",
   "metadata": {},
   "source": [
    "**Codificació i descodificació**"
   ]
  },
  {
   "cell_type": "code",
   "execution_count": 105,
   "id": "512fadaf",
   "metadata": {},
   "outputs": [],
   "source": [
    "def encode(txta,corr):\n",
    "#     txt = txta.split() #suponemos q son palabras separadas por espacios\n",
    "#pues no son palabras SON LETRAS JAJJSKDJD TUS MUERTOS\n",
    "    coded = []\n",
    "    for c in txta:\n",
    "        for x in corr:\n",
    "            if c in x[0]:\n",
    "                coded.append(x[1])\n",
    "    txtb = \"\".join(coded)\n",
    "    return txtb"
   ]
  },
  {
   "cell_type": "code",
   "execution_count": 225,
   "id": "422765bd",
   "metadata": {},
   "outputs": [],
   "source": [
    "def decode(txtb,corr):\n",
    "#     txt = txtb.split() vale no está separado, mira pregunta 6\n",
    "#     decoded = []\n",
    "#     for c in txt:\n",
    "#         for x in corr:\n",
    "#             if c in x[1]:\n",
    "#                 decoded.append(x[0])\n",
    "#     txta = \" \".join(decoded)\n",
    "#     return txta\n",
    "    i = 0\n",
    "    txta = \"\"\n",
    "    chain = \"\"\n",
    "    while i < len(txtb):\n",
    "        chain += txtb[i]\n",
    "        for p in corr:\n",
    "            if chain == p[1]:\n",
    "                txta += p[0]\n",
    "                chain = \"\"\n",
    "                break\n",
    "        i += 1\n",
    "    return txta\n",
    "        "
   ]
  },
  {
   "cell_type": "code",
   "execution_count": 198,
   "id": "fe99da4d",
   "metadata": {},
   "outputs": [],
   "source": [
    "def cannonical_code(lst,q,alf):\n",
    "    sorted_lst = sorted(lst)\n",
    "    coded = []\n",
    "    for long in sorted_lst:\n",
    "        codeword = \"\"\n",
    "        if len(coded) == 0: #si es la primera palabra\n",
    "            codeword = append_first_letter(codeword,long,alf[0])\n",
    "        else:\n",
    "            codeword = increment_alf(last_codeword,alf) #le sumamos uno al anterior\n",
    "            #luego comprobamos si hay que añadir 0s\n",
    "            if long > last_long:\n",
    "                codeword = append_first_letter(codeword,long-last_long,alf[0])\n",
    "        coded.append(codeword)\n",
    "        last_long = long\n",
    "        last_codeword = codeword #quizas podemos ahorrarnos esto y coger al principio del for de la lista\n",
    "    #ahora que tenemos la lista coded, hay que intentar imprimirla segun el orden de entrada lst\n",
    "    sorted_coded = []\n",
    "    for long in lst:\n",
    "        for codeword in coded:\n",
    "            if len(codeword) == long:\n",
    "                sorted_coded.append(codeword)\n",
    "                coded.remove(codeword)\n",
    "                break\n",
    "    return sorted_coded"
   ]
  },
  {
   "cell_type": "code",
   "execution_count": 48,
   "id": "2a92a79d",
   "metadata": {},
   "outputs": [],
   "source": [
    "def append_first_letter(codeword,n,letter):\n",
    "    if codeword == None:\n",
    "        codeword = \"\" #es q si no se bugea lol\n",
    "    for _ in range(n):\n",
    "        codeword += letter\n",
    "    return codeword"
   ]
  },
  {
   "cell_type": "code",
   "execution_count": 91,
   "id": "ce417df2",
   "metadata": {},
   "outputs": [],
   "source": [
    "def increment_alf(codeword,alf):\n",
    "#     if codeword == None: esto nunca deberia suceder, hay un error\n",
    "#         codeword = \"\" #es q si no se bugea lol\n",
    "    carry = False\n",
    "    s = list(codeword)\n",
    "    i = len(codeword)-1\n",
    "    if s[i] != alf[-1]:\n",
    "        index_in_alf = alf.index(s[i])\n",
    "        s[i] = alf[index_in_alf+1]\n",
    "    else:\n",
    "        s[i] = alf[0]\n",
    "        carry = True\n",
    "    \n",
    "    if carry:\n",
    "        while True:\n",
    "            i -= 1\n",
    "            if i < 0: #esto es necesario? no sabria decirte\n",
    "                raise ValueError(\"ERROR: no existeix cap codi amb aquesta propietat\")\n",
    "            if s[i] != alf[-1]:\n",
    "                index_in_alf = alf.index(s[i])\n",
    "                s[i] = alf[index_in_alf+1]\n",
    "                break\n",
    "            else:\n",
    "                s[i] = alf[0]\n",
    "    codeword = \"\".join(s) #convertimos la lista en string\n",
    "    return codeword #GILIPOLLAS"
   ]
  },
  {
   "cell_type": "code",
   "execution_count": 170,
   "id": "e1789174",
   "metadata": {},
   "outputs": [
    {
     "name": "stdout",
     "output_type": "stream",
     "text": [
      "['aaa', 'aabaa', 'aababaa', 'aabababa', 'aabababb', 'aabababcaa', 'aabababcabaa', 'aabababcababa', 'aabababcababba', 'aabababcababbbaa', 'aabababcababbbaba', 'aabababcababbbabba', 'aabababcababbbabbb', 'aabababcababbbabbca', 'aabababcababbbabbcba', 'aabababcababbbabbcbb', 'aabababcababbbabbcbc', 'aabababcababbbabbcbd', 'aabababcababbbabbcbea', 'aabababcababbbabbcbeb', 'aabababcababbbabbcbec', 'aabababcababbbabbcbed', 'aabababcababbbabbcbeea']\n",
      "['aaa', 'aabaa', 'aababaa', 'aabababa', 'aabababb', 'aabababcaa', 'aabababcabaa', 'aabababcababa', 'aabababcababba', 'aabababcababbbaa', 'aabababcababbbaba', 'aabababcababbbabba', 'aabababcababbbabbb', 'aabababcababbbabbca', 'aabababcababbbabbcba', 'aabababcababbbabbcbb', 'aabababcababbbabbcbc', 'aabababcababbbabbcbd', 'aabababcababbbabbcbea', 'aabababcababbbabbcbeb', 'aabababcababbbabbcbec', 'aabababcababbbabbcbed', 'aabababcababbbabbcbeea']\n"
     ]
    },
    {
     "data": {
      "text/plain": [
       "True"
      ]
     },
     "execution_count": 170,
     "metadata": {},
     "output_type": "execute_result"
    }
   ],
   "source": [
    "lst = [8, 13, 10, 20, 21, 20, 12, 21, 5, 21, 7, 22, 17, 3, 18, 18, 8, 16, 21, 20, 20, 19, 14]\n",
    "alf = [\"a\", \"b\", \"c\", \"d\", \"e\", \"f\", \"g\", \"h\"]\n",
    "q = 8\n",
    "code = cannonical_code(lst,q,alf)\n",
    "result = ['aabababa', 'aabababcababa', 'aabababcaa', 'aabababcababbbabbcba', 'aabababcababbbabbcbea', 'aabababcababbbabbcbb', 'aabababcabaa', 'aabababcababbbabbcbeb', 'aabaa', 'aabababcababbbabbcbec', 'aababaa', 'aabababcababbbabbcbeea', 'aabababcababbbaba', 'aaa', 'aabababcababbbabba', 'aabababcababbbabbb', 'aabababb', 'aabababcababbbaa', 'aabababcababbbabbcbed', 'aabababcababbbabbcbc', 'aabababcababbbabbcbd', 'aabababcababbbabbca', 'aabababcababba']\n",
    "print(sorted(code))\n",
    "print(sorted(result))\n",
    "sorted(code) == sorted(result)\n",
    "#LESGOOOOOOOOOOOOOOOoo"
   ]
  },
  {
   "cell_type": "markdown",
   "id": "ba75e39e",
   "metadata": {},
   "source": [
    "**Codi de Shannon**"
   ]
  },
  {
   "cell_type": "code",
   "execution_count": 139,
   "id": "aa294836",
   "metadata": {},
   "outputs": [],
   "source": [
    "# import math\n",
    "# def shannon_code(src):\n",
    "#     total = 0\n",
    "#     for x in src:\n",
    "#         total += x[1]\n",
    "#     probs = {}\n",
    "#     for (a,w) in src:\n",
    "#         prob = w/total\n",
    "#         probs[a] = prob\n",
    "#     sorted_probs = dict(sorted(probs.items(), key=lambda item: item[1], reverse=True))\n",
    "#     print(total)\n",
    "#     print(sorted_probs)\n",
    "#     acum = 0.0\n",
    "#     coded = []\n",
    "#     for key, value in sorted_probs.items():\n",
    "#         li = math.ceil(-math.log2(value))\n",
    "#         if(acum==0.0):\n",
    "#             codeword = \"0\"\n",
    "#             for _ in range(li):\n",
    "#                 codeword += \"0\"\n",
    "#             coded.append(codeword)\n",
    "#         else:\n",
    "#             codeword = float_bin(acum,li)\n",
    "#             coded.append(codeword)\n",
    "#         print(key, \": \", acum, \" = \", codeword)\n",
    "#         acum += value\n",
    "#     keys = sorted_probs.keys()\n",
    "#     return list(zip(keys,coded))"
   ]
  },
  {
   "cell_type": "code",
   "execution_count": 197,
   "id": "326b4cc1",
   "metadata": {},
   "outputs": [],
   "source": [
    "import math\n",
    "def shannon_code(src):\n",
    "    total = 0\n",
    "    for x in src:\n",
    "        total += x[1]\n",
    "    lst = []\n",
    "    for (a,w) in src:\n",
    "        prob = w/total\n",
    "        length = math.ceil(-math.log2(prob))\n",
    "        lst.append(length)\n",
    "    return lst"
   ]
  },
  {
   "cell_type": "code",
   "execution_count": 129,
   "id": "b0380f4b",
   "metadata": {},
   "outputs": [],
   "source": [
    "def float_bin(n,decs):\n",
    "    num = float(n)\n",
    "    res = \"\"\n",
    "    for x in range(decs):\n",
    "        num *= 2\n",
    "        dec, whole = math.modf(num)\n",
    "        if whole > 0:\n",
    "            res += \"1\"\n",
    "        else:\n",
    "            res += \"0\"\n",
    "        num = dec\n",
    " \n",
    "    return res"
   ]
  },
  {
   "cell_type": "code",
   "execution_count": 128,
   "id": "e4dce52b",
   "metadata": {},
   "outputs": [
    {
     "name": "stdout",
     "output_type": "stream",
     "text": [
      "0.51566 1.0\n"
     ]
    }
   ],
   "source": [
    "x = 1.51566\n",
    "frac, whole = math.modf(x)\n",
    "print(frac, whole)"
   ]
  },
  {
   "cell_type": "code",
   "execution_count": 98,
   "id": "4df06b89",
   "metadata": {},
   "outputs": [],
   "source": [
    "def decimal_converter(num):\n",
    "    while num >= 1:\n",
    "        num /= 10\n",
    "    return num"
   ]
  },
  {
   "cell_type": "code",
   "execution_count": null,
   "id": "6324effc",
   "metadata": {},
   "outputs": [],
   "source": [
    "src = [(\"a\",10),(\"b\",20),(\"c\",10),(\"d\",10),(\"e\",35),(\"f\",15)]\n",
    "coded = shannon_code(src)\n",
    "print(coded)"
   ]
  },
  {
   "cell_type": "markdown",
   "id": "15ab772c",
   "metadata": {},
   "source": [
    "## EXERCICIS DE QUESTIONARI"
   ]
  },
  {
   "cell_type": "markdown",
   "id": "6929245f",
   "metadata": {},
   "source": [
    "**Doneu un codi canònic binari (alfabet de zeros i uns) amb paraules de les longituds donades a la llista següent:**\n",
    "\n",
    "**Longituds: [5, 2, 5, 10, 10, 8, 12, 3, 14, 6, 13, 14, 13, 12, 3]**\n",
    "\n",
    "**(Escriviu la resposta com una llista de strings binaris)**\n",
    "\n",
    "**La resposta correcta és: ['10000', '00', '10001', '1001010100', '1001010101', '10010100', '100101011000', '010', '10010101101100', '100100', '1001010110100', '10010101101101', '1001010110101', '100101011001', '011']**"
   ]
  },
  {
   "cell_type": "code",
   "execution_count": 93,
   "id": "0f1757a3",
   "metadata": {},
   "outputs": [
    {
     "data": {
      "text/plain": [
       "True"
      ]
     },
     "execution_count": 93,
     "metadata": {},
     "output_type": "execute_result"
    }
   ],
   "source": [
    "lst = [5, 2, 5, 10, 10, 8, 12, 3, 14, 6, 13, 14, 13, 12, 3]\n",
    "q = 2\n",
    "alf = [\"0\",\"1\"]#importante q sean strings\n",
    "res = cannonical_code(lst,q,alf)\n",
    "corr = ['10000', '00', '10001', '1001010100', '1001010101', '10010100', '100101011000', '010', '10010101101100', '100100', '1001010110100', '10010101101101', '1001010110101', '100101011001', '011']\n",
    "res == corr"
   ]
  },
  {
   "cell_type": "markdown",
   "id": "3d244534",
   "metadata": {},
   "source": [
    "**Es té un codi binari amb paraules de longituds:**\n",
    "\n",
    "**Longituds: [6, 12, 8, 8, 10, 15, 11, 13, 11, 15, 15, 6, 10, 13, 11, 13]**\n",
    "\n",
    "**Quines són les longituds mínimes que es poden afegir a la llista donada de manera que segueixi existint un codi?**\n",
    "\n",
    "**Per exemple a un codi amb paraules de longituds [3,2,5,6] se li poden afegir paraules de longituds [1,4,6] però no paraules més curtes que aquestes**\n",
    "\n",
    "**Doneu la resposta com una llista contenint les longituds ordenades en ordre creixent.**"
   ]
  },
  {
   "cell_type": "code",
   "execution_count": 242,
   "id": "32d1504e",
   "metadata": {},
   "outputs": [
    {
     "name": "stdout",
     "output_type": "stream",
     "text": [
      "['000000', '000010101110', '00001000', '00001001', '0000101000', '000010110000100', '00001010100', '0000101011110', '00001010101', '000010110000101', '000010110000110', '000001', '0000101001', '0000101011111', '00001010110', '0000101100000']\n"
     ]
    }
   ],
   "source": [
    "lst = [6, 12, 8, 8, 10, 15, 11, 13, 11, 15, 15, 6, 10, 13, 11, 13]\n",
    "# lst = [3,2,5,6] \n",
    "q = 2\n",
    "alf = [\"0\",\"1\"]\n",
    "res = cannonical_code(lst,q,alf)\n",
    "print(res)"
   ]
  },
  {
   "cell_type": "code",
   "execution_count": 250,
   "id": "cc403562",
   "metadata": {},
   "outputs": [
    {
     "name": "stdout",
     "output_type": "stream",
     "text": [
      "['0010', '0011011000', '000', '00110110100010', '00110110100011', '001101101010000', '0011011001', '00110100', '00110110100100', '0011000', '001101101010001', '00110110100101', '0011001', '00110110100110', '00110110100111', '0011011010000', '00110101']\n"
     ]
    }
   ],
   "source": [
    "lst = [4, 10, 3, 14, 14, 15, 10, 8, 14, 7, 15, 14, 7, 14, 14, 13, 8]\n",
    "q = 2\n",
    "alf = [\"0\",\"1\"]\n",
    "res = cannonical_code(lst,q,alf)\n",
    "print(res)"
   ]
  },
  {
   "cell_type": "markdown",
   "id": "6f3e263d",
   "metadata": {},
   "source": [
    "**Doneu un codi canònic 8-ari sobre l'alfabet de les primeres 8 lletres de l'alfabet llatí (minúscules) amb paraules de les longituds donades a la llista següent:**\n",
    "\n",
    "__Longituds: [8, 13, 10, 20, 21, 20, 12, 21, 5, 21, 7, 22, 17, 3, 18, 18, 8, 16, 21, 20, 20, 19, 14]__\n",
    "\n",
    "**(Escriviu la resposta com una llista de strings de lletres de l'alfabet llatí)**"
   ]
  },
  {
   "cell_type": "code",
   "execution_count": 181,
   "id": "aebb4a39",
   "metadata": {},
   "outputs": [
    {
     "data": {
      "text/plain": [
       "True"
      ]
     },
     "execution_count": 181,
     "metadata": {},
     "output_type": "execute_result"
    }
   ],
   "source": [
    "lst = [8, 13, 10, 20, 21, 20, 12, 21, 5, 21, 7, 22, 17, 3, 18, 18, 8, 16, 21, 20, 20, 19, 14]\n",
    "q = 8\n",
    "alf = [\"a\",\"b\",\"c\",\"d\",\"e\",\"f\",\"g\",\"h\"]\n",
    "res = cannonical_code(lst,q,alf)\n",
    "corr = ['aabababa', 'aabababcababa', 'aabababcaa', 'aabababcababbbabbcba', 'aabababcababbbabbcbea', 'aabababcababbbabbcbb', 'aabababcabaa', 'aabababcababbbabbcbeb', 'aabaa', 'aabababcababbbabbcbec', 'aababaa', 'aabababcababbbabbcbeea', 'aabababcababbbaba', 'aaa', 'aabababcababbbabba', 'aabababcababbbabbb', 'aabababb', 'aabababcababbbaa', 'aabababcababbbabbcbed', 'aabababcababbbabbcbc', 'aabababcababbbabbcbd', 'aabababcababbbabbca', 'aabababcababba']\n",
    "sorted(res) == sorted(corr)"
   ]
  },
  {
   "cell_type": "markdown",
   "id": "940c22e7",
   "metadata": {},
   "source": [
    "**Es codifica el text següent (un fragment de Moby Dick de Herman Melville, només amb minúscules i espai):**\n",
    "\n",
    "**Text: \"this whale will have gone two hundred miles will have about reached this or that degree of latitude or longitude but to render this acuteness at all successful in the end the wind and the sea must be the whalemans allies for of what present avail to the becalmed or windbound mariner is the skill that assures him he is exactly ninety three leagues and a quarter from his port inferable from these statements are many collateral subtile matters touching the chase of whales the ship tore on leaving such a furrow in the sea as when a cannon ball missent becomes a plough share and turns up the level field by salt and hemp cried stubb but this swift motion of the deck creeps up ones legs and tingles at the heart this ship and i are two brave fellows\"**\n",
    "\n",
    "**amb el codi binari canònic de Shannon corresponent als pesos (probabilitats) de les lletres següents:**\n",
    "\n",
    "**Llista de parells (lletra,pes): [(' ', 216026), ('a', 77948), ('b', 16886), ('c', 22523), ('d', 38233), ('e', 117141), ('f', 20846), ('g', 20827), ('h', 62917), ('i', 65471), ('j', 1084), ('k', 8058), ('l', 42804), ('m', 23285), ('n', 65645), ('o', 69357), ('p', 17265), ('q', 1556), ('r', 52173), ('s', 64256), ('t', 88037), ('u', 26707), ('v', 8606), ('w', 22227), ('x', 1034), ('y', 16877), ('z', 632)]**\n",
    "\n",
    "**Doneu la cadena binària que s'obté com a codificació.**\n",
    "\n"
   ]
  },
  {
   "cell_type": "code",
   "execution_count": 239,
   "id": "173400b7",
   "metadata": {},
   "outputs": [],
   "source": [
    "src =  [(' ', 216026), ('a', 77948), ('b', 16886), ('c', 22523), ('d', 38233), \n",
    "        ('e', 117141), ('f', 20846), ('g', 20827), ('h', 62917), ('i', 65471), \n",
    "        ('j', 1084),   ('k', 8058),  ('l', 42804), ('m', 23285), ('n', 65645), \n",
    "        ('o', 69357),  ('p', 17265), ('q', 1556),  ('r', 52173), ('s', 64256), \n",
    "        ('t', 88037),  ('u', 26707), ('v', 8606),  ('w', 22227), ('x', 1034), \n",
    "        ('y', 16877),  ('z', 632)]\n",
    "#coded = shannon_code(src)\n",
    "lst = shannon_code(src)\n",
    "coded = cannonical_code(lst,2,[\"0\",\"1\"])\n",
    "letters = []\n",
    "for x in src:\n",
    "    letters.append(x[0])\n",
    "corr = list(zip(letters,coded))"
   ]
  },
  {
   "cell_type": "code",
   "execution_count": 240,
   "id": "56e154d8",
   "metadata": {},
   "outputs": [
    {
     "data": {
      "text/plain": [
       "True"
      ]
     },
     "execution_count": 240,
     "metadata": {},
     "output_type": "execute_result"
    }
   ],
   "source": [
    "txta = \"this whale will have gone two hundred miles will have about reached this or that degree of latitude or longitude but to render this acuteness at all successful in the end the wind and the sea must be the whalemans allies for of what present avail to the becalmed or windbound mariner is the skill that assures him he is exactly ninety three leagues and a quarter from his port inferable from these statements are many collateral subtile matters touching the chase of whales the ship tore on leaving such a furrow in the sea as when a cannon ball missent becomes a plough share and turns up the level field by salt and hemp cried stubb but this swift motion of the deck creeps up ones legs and tingles at the heart this ship and i are two brave fellows\"\n",
    "encoded = str(encode(txta,corr))\n",
    "res = \"01000101101100100010001010010101100100110100110001010010110001101011010000101100101010111100110001001100111101110001100001001010010111100001011101000011100101010000001101010000100111011000110100111000100010100101100011010110100001011001010101111001100000101010100011111010000100000100000011001010010001011001101010000010001011011001000100001111100000000100010110010010000001010001110011010000001100110000111110010100001101001001000110001001010000101000110000111110000000011010111101110100110011000100101000010100011000101010010100001000000100011110001000000110111001010001110000000010001011011001000100000101001001010000100001101110001110001100010000010010000000100110101101000100011010001001001001000011100011000110010110100001101000011000111000001000101100110000011011100101000001000101100110001010010110001110010100000010011100101000001000101100110001000100110010000100111101000100010100000101010000110000100010110011000101001010110010011010011100111001001110100010000010011010110101100001110001000100101011111000000001111100101000101001010110010010000010101011000000111000100110111001000000010101011110010011000110100001000111100001000101100110001010100001110010000100110110011100110101000001111100000001010010110001110010101010100011111010000111001010000100111001010000011000111000111000000001100100010000100010110011000100011010111001100011010110100001000101100100100000001010001100011010001000000111000100001011011001001110000101100110000110010001000001110110000011001010010001000110110101100000111001100011100011010010101100000100010111000000110011000011010011001010011010100000111000100000100111001010000001000010110000001010000010100000100001110000000100101100000111110011100001011011001000100010101010111110000010000001100011101001010011100000010101010001101001100010010110000011111001110000100010110011100010011000100010100001001000011100111001101110010010001000001010000001100010011100100111010101100001001000111101101011010010010000111000000100110100010001101000101010001000110001101001100010011100100100010000111000010001000010001111101000100100010110110001110100110000010001011001100010010001011001010001001100001111100101000101001010110010011010011100010000100010110011000100010101101100101010100001000111110000001100001111011100000110100110010101011110110001110100110000100011010001001000101100000100001001011010001000010000011111010010000110001110000010001011001100010001001100100000010100010001010010101100110111000000100001001000010011100111001111011100001010100001001101011010001001110110010001100010011011100100000101010000111001000111110011100111000100000100001010101011010111110100010011001011000100010101100101000000110000010011100101000001001010001000001110100010001010001010101000010001011001100001101001110101111001101101000100101011000011011010101000010101001010110000100010010011010100000001001110010100000101100111001111010101000100100100000110000110101000010001010010100010101001010100000101010010100001000000100010110110010001000100011010010110010010101000001001110111101000110001111011100000111110010100001000101100110000101000111001001010111000010010010000001100111010101100010001010001010101000011110111000111000100001101001110011010001000001001110010100000100011000111010011001101001110001000001001000000100010110011000010110011001010000010000001000101101100100010001000101011011001010101000001001110010100000110000000101000000110000100101001011110001010100100000010101011110011000100101001101101011010111110100110001\"\n",
    "encoded == res"
   ]
  },
  {
   "cell_type": "markdown",
   "id": "901bdb39",
   "metadata": {},
   "source": [
    "**Es codifica el text següent (un fragment de Don Quijote de la Mancha de Miguel de Cervantes):**\n",
    "\n",
    "**Text: \"y aderezólas lo mejor que pudo, pero vio que tenían una gran falta, y era que no tenían celada de encaje, sino morrión simple; mas a esto suplió su industria, porque de cartones hizo un modo de media celada, que, encajada con el morrión, hacían una apariencia de celada entera. Es verdad que para probar si era fuerte y podía estar al riesgo de una cuchillada, sacó su espada y le dio dos golpes, y con el primero y en un punto deshizo lo que había hecho en una semana; y no dejó de parecerle mal la facilidad con que la había hecho pedazos, y, por asegurarse deste peligro, la tornó a hacer de nuevo, poniéndole unas barras de hierro por de dentro, de tal manera que él quedó satisfecho de su fortaleza; y, sin querer hacer nueva experiencia della, la diputó y tuvo por celada finísima de encaje. Fue luego a ver su rocín, y, aunque tenía más cuartos que un real y más tachas que el caballo de Gonela, que tantum pellis et ossa fuit, le pareció que ni el Bucéfalo de Alejandro ni Babieca el del\"**\n",
    "\n",
    "**amb el codi binari canònic de Shannon corresponent als pesos (probabilitats) de les lletres següents:**\n",
    "\n",
    "**Llista de parells (lletra,pes): [(' ', 1877), ('!', 1), (\"'\", 4), (',', 212), ('-', 5), ('.', 37), (':', 6), (';', 21), ('?', 1), ('A', 10), ('B', 4), ('C', 8), ('D', 6), ('E', 7), ('F', 4), ('G', 6), ('H', 2), ('I', 2), ('L', 6), ('M', 8), ('N', 2), ('O', 1), ('P', 6), ('Q', 9), ('R', 5), ('S', 3), ('T', 6), ('U', 1), ('Y', 6), ('a', 1017), ('b', 175), ('c', 302), ('d', 427), ('e', 1067), ('f', 46), ('g', 80), ('h', 92), ('i', 358), ('j', 34), ('l', 498), ('m', 230), ('n', 550), ('o', 734), ('p', 149), ('q', 132), ('r', 508), ('s', 571), ('t', 267), ('u', 391), ('v', 68), ('x', 2), ('y', 122), ('z', 34), ('¡', 1), ('¿', 1), ('á', 31), ('é', 29), ('í', 95), ('ñ', 18), ('ó', 62), ('ú', 7), ('ü', 1)]**\n",
    "\n",
    "**Doneu la cadena binària que s'obté com a codificació.**"
   ]
  },
  {
   "cell_type": "code",
   "execution_count": 204,
   "id": "1f49b7fe",
   "metadata": {},
   "outputs": [
    {
     "name": "stdout",
     "output_type": "stream",
     "text": [
      "[(' ', '000'), ('!', '10101111011000'), (\"'\", '101011101110'), (',', '100010'), ('-', '101011101111'), ('.', '101010100'), (':', '10101101010'), (';', '101010101'), ('?', '10101111011001'), ('A', '10101101011'), ('B', '101011110000'), ('C', '10101101100'), ('D', '10101101101'), ('E', '10101101110'), ('F', '101011110001'), ('G', '10101101111'), ('H', '1010111101000'), ('I', '1010111101001'), ('L', '10101110000'), ('M', '10101110001'), ('N', '1010111101010'), ('O', '10101111011010'), ('P', '10101110010'), ('Q', '10101110011'), ('R', '101011110010'), ('S', '101011110011'), ('T', '10101110100'), ('U', '10101111011011'), ('Y', '10101110101'), ('a', '0010'), ('b', '100011'), ('c', '100100'), ('d', '01010'), ('e', '0011'), ('f', '10100110'), ('g', '10100111'), ('h', '1001110'), ('i', '01011'), ('j', '101010110'), ('l', '01100'), ('m', '100101'), ('n', '01101'), ('o', '0100'), ('p', '1001111'), ('q', '1010000'), ('r', '01110'), ('s', '01111'), ('t', '100110'), ('u', '10000'), ('v', '10101000'), ('x', '1010111101011'), ('y', '1010001'), ('z', '101010111'), ('¡', '10101111011100'), ('¿', '10101111011101'), ('á', '101011000'), ('é', '101011001'), ('í', '1010010'), ('ñ', '1010110100'), ('ó', '10101001'), ('ú', '10101110110'), ('ü', '10101111011110')]\n"
     ]
    },
    {
     "data": {
      "text/plain": [
       "True"
      ]
     },
     "execution_count": 204,
     "metadata": {},
     "output_type": "execute_result"
    }
   ],
   "source": [
    "src =  [(' ', 1877), ('!', 1), (\"'\", 4), (',', 212), ('-', 5), ('.', 37), (':', 6), \n",
    "        (';', 21), ('?', 1), ('A', 10), ('B', 4), ('C', 8), ('D', 6), ('E', 7), ('F', 4), \n",
    "        ('G', 6), ('H', 2), ('I', 2), ('L', 6), ('M', 8), ('N', 2), ('O', 1), ('P', 6), \n",
    "        ('Q', 9), ('R', 5), ('S', 3), ('T', 6), ('U', 1), ('Y', 6), ('a', 1017), ('b', 175), \n",
    "        ('c', 302), ('d', 427), ('e', 1067), ('f', 46), ('g', 80), ('h', 92), ('i', 358), \n",
    "        ('j', 34), ('l', 498), ('m', 230), ('n', 550), ('o', 734), ('p', 149), ('q', 132), \n",
    "        ('r', 508), ('s', 571), ('t', 267), ('u', 391), ('v', 68), ('x', 2), ('y', 122), \n",
    "        ('z', 34), ('¡', 1), ('¿', 1), ('á', 31), ('é', 29), ('í', 95), ('ñ', 18), \n",
    "        ('ó', 62), ('ú', 7), ('ü', 1)]\n",
    "lst = shannon_code(src)\n",
    "coded = cannonical_code(lst,2,[\"0\",\"1\"])\n",
    "letters = []\n",
    "for x in src:\n",
    "    letters.append(x[0])\n",
    "corr = list(zip(letters,coded))\n",
    "print(corr)\n",
    "txta = \"y aderezólas lo mejor que pudo, pero vio que tenían una gran falta, y era que no tenían celada de encaje, sino morrión simple; mas a esto suplió su industria, porque de cartones hizo un modo de media celada, que, encajada con el morrión, hacían una apariencia de celada entera. Es verdad que para probar si era fuerte y podía estar al riesgo de una cuchillada, sacó su espada y le dio dos golpes, y con el primero y en un punto deshizo lo que había hecho en una semana; y no dejó de parecerle mal la facilidad con que la había hecho pedazos, y, por asegurarse deste peligro, la tornó a hacer de nuevo, poniéndole unas barras de hierro por de dentro, de tal manera que él quedó satisfecho de su fortaleza; y, sin querer hacer nueva experiencia della, la diputó y tuvo por celada finísima de encaje. Fue luego a ver su rocín, y, aunque tenía más cuartos que un real y más tachas que el caballo de Gonela, que tantum pellis et ossa fuit, le pareció que ni el Bucéfalo de Alejandro ni Babieca el del\"\n",
    "encoded = str(encode(txta,corr))\n",
    "res = \"10100010000010010100011011100011101010111101010010110000100111100001100010000010010100111010101100100011100001010000100000011000100111110000010100100100010000100111100110111001000001010100001011010000010100001000000110001001100011011011010010001001101000100000110100100001010011101110001001101000101001100010011001001100010100010000101000100000110111000100001010000100000011000011010100000100110001101101101001000100110100010010000110110000100101000100000101000110000011011011001000010101010110001110001000001111010110110101000001001010100011100111001011101010010110100001111010111001011001111011000011101010101000100101001001111000001000000110111110011001000000111110000100111101100010111010100100001111100000000101101101010101000001111100110011100101100101000100001001111010001110101000010000001100001010001100010010000100111010011001000110100110111100010011100101110101011101000001000001101000100101010001010010000001010001100010010100110101001011001000010010000110110000100101000101000100001010000100000011100010000001101101100100001010101011000100101000100001001000100011010000011011000001001010100011100111001011101010010110110001000010011100010100100101001000100110100010000011010010000001010011110010011100101100110110110010001011001000001010001100010010000110110000100101000100000011011011001100011011100010101010100000101011011100111100010101000001101110010100010010100001010000100000011000100111100100111000100001001111011100100100011001001110000011110101100000110111000100001010011010000001101110100110001100010100010001001111010001010101001000100000011011111001100010011100000010011000000111001011001101111101001110100000010100011000100000110100100001001001000010010010011100101101100011000010010100010100010000011110010100100101010010000111110000000001101111100111100100101000100001010001000011000011000010100101101000000101001000111100010100111010001100100111100110111110001000010100010001001000100011010000011011000001001111011100101110010100110111001000001010001000001101101000100000110100010011111000001101100110010000001010001101111100111001011101010111010000001100010000010100001000000110001001110001010001110100100010000100111000111001001001110010000000110110100010000011010010000011110011100101001001101001010101010100010100010000110101000000101000111010101101010100100001010001100010011110010011100011100100001101110011000011000100101001001100000011000010000101001100010100100010110110001011010100010010100001001000100011010001010000100000011000011000010000100111000101000111010010001000010011100011100100100111001000001001111001101010001010101011101000111110001000010100011000100001001111010001110000001001111001110100111100000111000100111001111001100001010001101111100110001100010011110011011000101110100111011100100100010000011000010000100110010001110011011010100100000100001001110001010010000110111000001010001100001101100000011101010000100100010000100111101000110101011101011001011010101001000110000110001000001101001001111000100011001001110011100010011110000101000110001001110010110011011100111001000001001111010001110000010100011000010100011011011001100111001001000100000101000110001001100010011000001001010010011010011011100010000101000010000001100010101100101100000101000010000001101010101010010000111100101001100101101111101001100011100100100111001000000101000110000111110000000101001100100011101001100010011000011101010111001010101010100010100011000100000111101011011010001010000100000011011100011011100001001110001010010000110111000001101100000011101010000010000001110101111010111001111001101110010110011011011001000101100100000101000110110001100001010001000001100001000001010010111001111100001001101010100100010100010001001101000010101000010000010011110100011100001001000011011000010010100010000101001100101101101101001001111010111001010010000010100011000001101101100100001010101011000111010101000001010111100011000000110000110010000001110100111010000000100001010100000110111000001111100000000111001001001001010010011011000100001010001100010000001010000011011010000100000011000100110001101101101001000100001001011010110000111100010010010000001001110100110010001111000101000010000001100010000011010000111000110010011000001010001000100101101011000011110001001100010100100100111000100111100010100001000000110000011011000001001000010100011001001100011000100000010100011000101011011110100011010011011000010100010000101000010000001100010011000100110110011010000100101000100111100110110001100010110111100000111001100000100011110111100100001010011010000010111001101000100000110000110001001111001001110001110010001011101010010001010000100000011000011010101100000110110000010101111000010000100100101011001101001100010011000100000010100011000101011010110110000111010101100010011010101001110010000001101010110001010111100000010100011010110011100100001000000110110000001010001101100\"\n",
    "encoded == res"
   ]
  },
  {
   "cell_type": "markdown",
   "id": "78f677ab",
   "metadata": {},
   "source": [
    "**Es codifica un text (un fragment de Moby Dick de Herman Melville, només amb minúscules i espai) amb el codi binari canònic de Shannon corresponent als pesos (probabilitats) de les lletres següents:**\n",
    "\n",
    "**Llista de parells (lletra,pes): [(' ', 216026), ('a', 77948), ('b', 16886), ('c', 22523), ('d', 38233), ('e', 117141), ('f', 20846), ('g', 20827), ('h', 62917), ('i', 65471), ('j', 1084), ('k', 8058), ('l', 42804), ('m', 23285), ('n', 65645), ('o', 69357), ('p', 17265), ('q', 1556), ('r', 52173), ('s', 64256), ('t', 88037), ('u', 26707), ('v', 8606), ('w', 22227), ('x', 1034), ('y', 16877), ('z', 632)]**\n",
    "\n",
    "**S'obté com a resultat la cadena binària següent:**\n",
    "\n",
    "**Cadena binària: \"01100100010000100010110011000101011110110010000010010100000110000111110010100000100000110100101000010011000110000010011100101000001101011001010100001110000001001101000010001011001110011100110001010010011000001110110000011101010100100111001010000010001111000011000100100010001010100101000011011010111000001000111100010101011000001111010101010001001000011000001000010011101100100110010110100101011000010101000111101111101011100001010110011111010000001001111010001000101000001001000101101111011111000100110000010000100111011001001100101101001010110000010001011001110011100110000111001111000100110100000011001001000000010011100101000000110111001010101000100000110001110100110000101011110111101101101000100111001100010010000100111000000111010111100111000000010101000011000101001100000110001000100001101110000011110111000001000101100110001001010110100110010000010001011011111010001001100101100010011100100111010101100000100010110011100000011000101010000110001010010101101111000010110010101011110011000010010000011000011010100000110001000000011100000011000001101110010000111000001100011101001100001010001010101011110111000001000101100110001000110100010101001011000001000111001000100000011111001010001001010111110001100010110001101000101001010110010011010011100010000110000010101011000000111000100110111001000001001111010110000100100100000011010100011011100100011000010011011000100000101000100000100001001100011011110110101111100110011001000101000001010100101011000010001010000100100011000111010011000001000101100100100000011000111000010011110101100001001110110010001100100001101101011010010011100011011111010001000100001000110010011100110000110000001011001010101111001100010101000011001101110000001000010001010001111011100011000100111001010001011110111000000100111001010000001001101100010111100000100001001101000000110010010000001010011001001101001100011100000000111110010100001010011000100100100010110011100010001001000010011100010011011000100000100111001010000101001001101101011011000100010100101100011100011000101011110010101000011010100100010001001000011011010110100101000010001000001001110010100001001000110010001010000111000001110100010000111110010100000100110101101000100010111110000010010001000011010110010101110001110100101100100010011000101010010101100001010010010101011000001111100101000101010110000001101101011001001110110001110001010000101011000001100000010100011100010110010000001100001000111100010000001110011101100011100101000001000101100110001000000110010010100011100000000100010110010010000010100101011011000110100110000110001110000010001011001100000110010100000110101100001110000000100110001101111011010111110011001100100100001001101000100010100100000010010000100000100010110011100000011000001010000001100010010101111101000011100101000001000101100110001001010111110001100010110001101100010000111110010100010011101111011101000101000011100001000100001110011111010010000010011011001110111110001010000010010001111100111101010101101001101000011011011010110\"**\n",
    "\n",
    "**Digueu quin era el text codificat.**"
   ]
  },
  {
   "cell_type": "code",
   "execution_count": 228,
   "id": "e9197079",
   "metadata": {},
   "outputs": [
    {
     "data": {
      "text/plain": [
       "True"
      ]
     },
     "execution_count": 228,
     "metadata": {},
     "output_type": "execute_result"
    }
   ],
   "source": [
    "src = [(' ', 216026), ('a', 77948), ('b', 16886), ('c', 22523), ('d', 38233), ('e', 117141), \n",
    "       ('f', 20846), ('g', 20827), ('h', 62917), ('i', 65471), ('j', 1084), ('k', 8058), \n",
    "       ('l', 42804), ('m', 23285), ('n', 65645), ('o', 69357), ('p', 17265), ('q', 1556), \n",
    "       ('r', 52173), ('s', 64256), ('t', 88037), ('u', 26707), ('v', 8606), ('w', 22227), \n",
    "       ('x', 1034), ('y', 16877), ('z', 632)]\n",
    "lst = shannon_code(src)\n",
    "coded = cannonical_code(lst,2,[\"0\",\"1\"])\n",
    "letters = []\n",
    "for x in src:\n",
    "    letters.append(x[0])\n",
    "corr = list(zip(letters,coded))\n",
    "# print(corr)\n",
    "txtb = \"01100100010000100010110011000101011110110010000010010100000110000111110010100000100000110100101000010011000110000010011100101000001101011001010100001110000001001101000010001011001110011100110001010010011000001110110000011101010100100111001010000010001111000011000100100010001010100101000011011010111000001000111100010101011000001111010101010001001000011000001000010011101100100110010110100101011000010101000111101111101011100001010110011111010000001001111010001000101000001001000101101111011111000100110000010000100111011001001100101101001010110000010001011001110011100110000111001111000100110100000011001001000000010011100101000000110111001010101000100000110001110100110000101011110111101101101000100111001100010010000100111000000111010111100111000000010101000011000101001100000110001000100001101110000011110111000001000101100110001001010110100110010000010001011011111010001001100101100010011100100111010101100000100010110011100000011000101010000110001010010101101111000010110010101011110011000010010000011000011010100000110001000000011100000011000001101110010000111000001100011101001100001010001010101011110111000001000101100110001000110100010101001011000001000111001000100000011111001010001001010111110001100010110001101000101001010110010011010011100010000110000010101011000000111000100110111001000001001111010110000100100100000011010100011011100100011000010011011000100000101000100000100001001100011011110110101111100110011001000101000001010100101011000010001010000100100011000111010011000001000101100100100000011000111000010011110101100001001110110010001100100001101101011010010011100011011111010001000100001000110010011100110000110000001011001010101111001100010101000011001101110000001000010001010001111011100011000100111001010001011110111000000100111001010000001001101100010111100000100001001101000000110010010000001010011001001101001100011100000000111110010100001010011000100100100010110011100010001001000010011100010011011000100000100111001010000101001001101101011011000100010100101100011100011000101011110010101000011010100100010001001000011011010110100101000010001000001001110010100001001000110010001010000111000001110100010000111110010100000100110101101000100010111110000010010001000011010110010101110001110100101100100010011000101010010101100001010010010101011000001111100101000101010110000001101101011001001110110001110001010000101011000001100000010100011100010110010000001100001000111100010000001110011101100011100101000001000101100110001000000110010010100011100000000100010110010010000010100101011011000110100110000110001110000010001011001100000110010100000110101100001110000000100110001101111011010111110011001100100100001001101000100010100100000010010000100000100010110011100000011000001010000001100010010101111101000011100101000001000101100110001001010111110001100010110001101100010000111110010100010011101111011101000101000011100001000100001110011111010010000010011011001110111110001010000010010001111100111101010101101001101000011011011010110\"\n",
    "decoded =  str(decode(txtb,corr))\n",
    "res = \"is the virtue of a large and liberal theme we expand to its bulk to produce a mighty book you must choose a mighty theme no great and enduring volume can ever be written on the flea though many there be who have tried it ere entering upon the subject of fossil whales i present my credentials as a geologist by stating that in my miscellaneous time i have been a stone mason and also a great digger of ditches canals and wells wine vaults cellars and cisterns of all sorts likewise by way of preliminary i desire to remind the reader that while in the earlier geological strata there are found the fossils of monsters now almost completely\"\n",
    "decoded == res"
   ]
  },
  {
   "cell_type": "markdown",
   "id": "d83b2933",
   "metadata": {},
   "source": [
    "**Es codifica un text (un fragment de Don Quijote de la Mancha de Miguel de Cervantes) amb el codi binari canònic de Shannon corresponent als pesos (probabilitats) de les lletres següents:**\n",
    "\n",
    "**Llista de parells (lletra,pes): [(' ', 1877), ('!', 1), (\"'\", 4), (',', 212), ('-', 5), ('.', 37), (':', 6), (';', 21), ('?', 1), ('A', 10), ('B', 4), ('C', 8), ('D', 6), ('E', 7), ('F', 4), ('G', 6), ('H', 2), ('I', 2), ('L', 6), ('M', 8), ('N', 2), ('O', 1), ('P', 6), ('Q', 9), ('R', 5), ('S', 3), ('T', 6), ('U', 1), ('Y', 6), ('a', 1017), ('b', 175), ('c', 302), ('d', 427), ('e', 1067), ('f', 46), ('g', 80), ('h', 92), ('i', 358), ('j', 34), ('l', 498), ('m', 230), ('n', 550), ('o', 734), ('p', 149), ('q', 132), ('r', 508), ('s', 571), ('t', 267), ('u', 391), ('v', 68), ('x', 2), ('y', 122), ('z', 34), ('¡', 1), ('¿', 1), ('á', 31), ('é', 29), ('í', 95), ('ñ', 18), ('ó', 62), ('ú', 7), ('ü', 1)]**\n",
    "\n",
    "**S'obté com a resultat la cadena binària següent:**\n",
    "\n",
    "**Cadena binària: \"011110011011011001101010010001010001000001111001100001010010110100000100111101110010110011011110010000001000010011110100011010011011100000011011010000011101001100011100110010000001100010000010100001000000110000101000110111100110010100011001010101010000010101110101000011000100000100111101110010111001010011011100100000101000010000001100010011100101110101011101000001010011010000001100001100010111001011001111010110010011100001000001101001001111000001001110100101001001111000101000010000001100010011100010100011101001000100110100001111010110101001000000101000110000111110000011110001000110101101111001010001110000001101100010001111100010000101000010000001110001000010011001001001010010010100010011110000101000110000100011101010010011010001010001000011000110000110110100100111100001010001100010010101001001110010010001000001100100000011011011010011101000111100001111010111010011101100010001111000100111000101000111010010001000010100001000000110000011011111001100010100011001001101000100111110000001101111100110001001111000101000100001000110010101000010110101000100101000100111100000110110100010000011010000111001011011011001001010100101101101010100000101011100000101110010110011110101110101001011000010011110001010001000001001010001101110001110101011110101001011000010011110000110001000001001010011101010110010001110000101000010000001100010011111000001010010010001000010011110011011100100000101010000101101000001010000100000011000100110001101101101001000100110100010000011010010000101001110111000100110100010100110001001100100110001010001000010100010000011011100010000101000010000001100001101010000010011000110110110100100010011010001001000011011000010010100010000010100011000001101101100100001010101011000111000100000111101011011010100000100101010001110011100101110101001011010000111101011100101100111101100001110101010100010010100100111100000100000011011111001100100000011111000010011110110001011101010010000111110000000010110110101010100000111110011001110010110010100010000100111101000111010100001000000110000101000110001001000010011101001100100011010011011110001001110010111010101110100000100000110100010010101000101001000000101000110001001010011010100101100100001001000011011000010010100010100010000101000010000001110001000000110110110010000101010101100010010100010000100100010001101000001101100000100101010001110011100101110101001011011000100001001110001010010010100100010011010001000001101001000000101001111001001110010110011011011001000101100100000101000110001001000011011000010010100010000001101101100110001101110001010101010000010101101110011110001010100000110111001010001001010000101000010000001100010011110010011100010\"**\n",
    "\n",
    "**Digueu quin era el text codificat.**"
   ]
  },
  {
   "cell_type": "code",
   "execution_count": 230,
   "id": "bab2b6be",
   "metadata": {},
   "outputs": [
    {
     "data": {
      "text/plain": [
       "True"
      ]
     },
     "execution_count": 230,
     "metadata": {},
     "output_type": "execute_result"
    }
   ],
   "source": [
    "src = [(' ', 1877), ('!', 1), (\"'\", 4), (',', 212), ('-', 5), ('.', 37), (':', 6), (';', 21), \n",
    "       ('?', 1), ('A', 10), ('B', 4), ('C', 8), ('D', 6), ('E', 7), ('F', 4), ('G', 6), \n",
    "       ('H', 2), ('I', 2), ('L', 6), ('M', 8), ('N', 2), ('O', 1), ('P', 6), ('Q', 9), ('R', 5),\n",
    "       ('S', 3), ('T', 6), ('U', 1), ('Y', 6), ('a', 1017), ('b', 175), ('c', 302), ('d', 427), \n",
    "       ('e', 1067), ('f', 46), ('g', 80), ('h', 92), ('i', 358), ('j', 34), ('l', 498), \n",
    "       ('m', 230), ('n', 550), ('o', 734), ('p', 149), ('q', 132), ('r', 508), ('s', 571), \n",
    "       ('t', 267), ('u', 391), ('v', 68), ('x', 2), ('y', 122), ('z', 34), ('¡', 1), ('¿', 1), \n",
    "       ('á', 31), ('é', 29), ('í', 95), ('ñ', 18), ('ó', 62), ('ú', 7), ('ü', 1)]\n",
    "lst = shannon_code(src)\n",
    "coded = cannonical_code(lst,2,[\"0\",\"1\"])\n",
    "letters = []\n",
    "for x in src:\n",
    "    letters.append(x[0])\n",
    "corr = list(zip(letters,coded))\n",
    "# print(corr)\n",
    "txtb = \"011110011011011001101010010001010001000001111001100001010010110100000100111101110010110011011110010000001000010011110100011010011011100000011011010000011101001100011100110010000001100010000010100001000000110000101000110111100110010100011001010101010000010101110101000011000100000100111101110010111001010011011100100000101000010000001100010011100101110101011101000001010011010000001100001100010111001011001111010110010011100001000001101001001111000001001110100101001001111000101000010000001100010011100010100011101001000100110100001111010110101001000000101000110000111110000011110001000110101101111001010001110000001101100010001111100010000101000010000001110001000010011001001001010010010100010011110000101000110000100011101010010011010001010001000011000110000110110100100111100001010001100010010101001001110010010001000001100100000011011011010011101000111100001111010111010011101100010001111000100111000101000111010010001000010100001000000110000011011111001100010100011001001101000100111110000001101111100110001001111000101000100001000110010101000010110101000100101000100111100000110110100010000011010000111001011011011001001010100101101101010100000101011100000101110010110011110101110101001011000010011110001010001000001001010001101110001110101011110101001011000010011110000110001000001001010011101010110010001110000101000010000001100010011111000001010010010001000010011110011011100100000101010000101101000001010000100000011000100110001101101101001000100110100010000011010010000101001110111000100110100010100110001001100100110001010001000010100010000011011100010000101000010000001100001101010000010011000110110110100100010011010001001000011011000010010100010000010100011000001101101100100001010101011000111000100000111101011011010100000100101010001110011100101110101001011010000111101011100101100111101100001110101010100010010100100111100000100000011011111001100100000011111000010011110110001011101010010000111110000000010110110101010100000111110011001110010110010100010000100111101000111010100001000000110000101000110001001000010011101001100100011010011011110001001110010111010101110100000100000110100010010101000101001000000101000110001001010011010100101100100001001000011011000010010100010100010000101000010000001110001000000110110110010000101010101100010010100010000100100010001101000001101100000100101010001110011100101110101001011011000100001001110001010010010100100010011010001000001101001000000101001111001001110010110011011011001000101100100000101000110001001000011011000010010100010000001101101100110001101110001010101010000010101101110011110001010100000110111001010001001010000101000010000001100010011110010011100010\"\n",
    "decoded =  str(decode(txtb,corr))\n",
    "res = \"sentía, se dio priesa a poner en efeto lo que deseaba. Y lo primero que hizo fue limpiar unas armas que habían sido de sus bisabuelos, que, tomadas de orín y llenas de moho, luengos siglos había que estaban puestas y olvidadas en un rincón. Limpiólas y aderezólas lo mejor que pudo, pero vio que tenían una gran falta, y era que no tenían celada de encaje, sino morrión simple; mas a esto suplió su industria, porque de cartones hizo un modo de media celada, que, encajada con el morrión, hacían una apariencia de celada entera. Es verdad que para\"\n",
    "decoded == res"
   ]
  },
  {
   "cell_type": "code",
   "execution_count": 241,
   "id": "3900ab8f",
   "metadata": {},
   "outputs": [
    {
     "name": "stdout",
     "output_type": "stream",
     "text": [
      "['0010110010001110', '00101010', '0010110000', '0010100', '0010110010001111', '000', '001011000110', '00100', '00101100100000', '001011001000110', '0010110001110', '00101100100100000', '00101011', '00101100100001', '0010110001111', '00101100100010', '00101100100100001', '00101100010']\n"
     ]
    }
   ],
   "source": [
    "lst = [16, 8, 10, 7, 16, 3, 12, 5, 14, 15, 13, 17, 8, 14, 13, 14, 17, 11]\n",
    "q = 2\n",
    "alf = [\"0\",\"1\"]#importante q sean strings\n",
    "res = cannonical_code(lst,q,alf)\n",
    "print(res)"
   ]
  },
  {
   "cell_type": "code",
   "execution_count": 244,
   "id": "d842fae3",
   "metadata": {},
   "outputs": [
    {
     "name": "stdout",
     "output_type": "stream",
     "text": [
      "['baadbaaabba', 'baadbaaabbbeaa', 'baaa', 'baadbaaaa', 'baadbaaabbba', 'baab', 'baadbaaabbbb', 'baada', 'a', 'baadbaaaba', 'baac', 'baadbaaabbbc', 'baadbaaabbbeab', 'baadbaaabbbd', 'baadbaaabbbeac']\n"
     ]
    }
   ],
   "source": [
    "lst = [11, 14, 4, 9, 12, 4, 12, 5, 1, 10, 4, 12, 14, 12, 14]\n",
    "q = 9\n",
    "alf = [\"a\",\"b\",\"c\",\"d\",\"e\",\"f\",\"g\",\"h\",\"i\"]\n",
    "res = cannonical_code(lst,q,alf)\n",
    "# corr = ['aabababa', 'aabababcababa', 'aabababcaa', 'aabababcababbbabbcba', 'aabababcababbbabbcbea', 'aabababcababbbabbcbb', 'aabababcabaa', 'aabababcababbbabbcbeb', 'aabaa', 'aabababcababbbabbcbec', 'aababaa', 'aabababcababbbabbcbeea', 'aabababcababbbaba', 'aaa', 'aabababcababbbabba', 'aabababcababbbabbb', 'aabababb', 'aabababcababbbaa', 'aabababcababbbabbcbed', 'aabababcababbbabbcbc', 'aabababcababbbabbcbd', 'aabababcababbbabbca', 'aabababcababba']\n",
    "print(res)"
   ]
  },
  {
   "cell_type": "code",
   "execution_count": 245,
   "id": "3f61e96e",
   "metadata": {},
   "outputs": [],
   "source": [
    "src =  [(' ', 216026), ('a', 77948), ('b', 16886), ('c', 22523), ('d', 38233), ('e', 117141), \n",
    "        ('f', 20846), ('g', 20827), ('h', 62917), ('i', 65471), ('j', 1084), ('k', 8058), \n",
    "        ('l', 42804), ('m', 23285), ('n', 65645), ('o', 69357), ('p', 17265), ('q', 1556), \n",
    "        ('r', 52173), ('s', 64256), ('t', 88037), ('u', 26707), ('v', 8606), ('w', 22227), \n",
    "        ('x', 1034), ('y', 16877), ('z', 632)]\n",
    "#coded = shannon_code(src)\n",
    "lst = shannon_code(src)\n",
    "coded = cannonical_code(lst,2,[\"0\",\"1\"])\n",
    "letters = []\n",
    "for x in src:\n",
    "    letters.append(x[0])\n",
    "corr = list(zip(letters,coded))"
   ]
  },
  {
   "cell_type": "code",
   "execution_count": 246,
   "id": "e19ef899",
   "metadata": {},
   "outputs": [
    {
     "name": "stdout",
     "output_type": "stream",
     "text": [
      "01101001100100111001100011101001100000111110101111001110000000010001011001100010001011000101000110001010100101011000001000101100110001010101001110000101010100110111001010011001001001010000110100101000000001101001001010010100011100000000111110010100001110001001100011010011010100001001000110100110011010010001000010001011001110000001100000100111001010000100011010010110001110100110011000111010011000001000111110100100101000001010100010000101101100100111000001000010101010010011001000000001111100101000010000101000101000011100101101000011010110110101100000111110000011100010100111001101110010000110101000010011100100111000010000011111010101001110001000100101011111000000000100100000100101011001000010001010000001000101100111010110000010100110001010000011100111101000001000100110011100111000010001111000101010000110100010110110001110101011100000100010110011100111000010001011001001000000010000011110111000110000110100111001101001100011010100001001110010011100001001111010001000101000001010100001100001000111101111000100111101000100100010110000111110010100000100001001001000001100101010110101010110100110000100011110001010001000100110000100010110011011001000000010001001100100001010100001001110011100110010001010000111000010001000101010010100001000000100010110110010001000001010100110101110101001001010000010100111000111000110001000011110111001101101011000001101001010001010000110101000000100001001110110001110101000010000110001010100001110010000101010001000100110000100010110011000100010100100000010011101001100011000100100001010101010100001001100011100000111110101001000100111000010101111011000111010011000000100100000001000010011001101001001110100100001100001011011111010010000010100101100101001001100100001000100010001010001111011110101000010010010000011000011010100000111110100001000000110000010001001100110000110000010001001100110000010101011110010100010100000010110011001010101111011000111010011000001000101100111000000110001011000001010100010011110101010001010100011111010110100010000010011100101000010001101001011000111010011000001111101011110011100000000100010110011000100100101000010001000110001110100110000010000101001001010111001101001100000101000100010011001111011110101000001101101000100100101011100001010010111110100001101010100000101100101010111100110000110001000000100010110011101011000001011001001010000010110010010100000010000101001010110010011010011000001001101011110111010011010001011000101000110000010000010100010101011000001111100000000100101001011110001010101100000011101011110110001111101000100010000010011100101000001000101100110001001101000000110010010000001000010100100101011100110100111000100010100100111000000110001000101000110001101011010000010011010111110010101000000010011100101000001000101100110001001110010100011000101100101011110011000100100101000100001010111100110101000010101000110110100010101001010100001110000000010110111101111101011100000111001111101001000100100011010011001001110000001001110010100000101010000101011000010100100101000100010001010001100011010110100000100100010000101001000101100110101000001000111100001000101100110000011011100101000001000101101100100010001010010010100010001011000000101000011001001001010111001101101011000001101011111010010011100000011010100000100011110000010010110010101010000010100101011011110000010010000001111011101001000011000100100011111001111010101100000011010110011011100101001100011101001100000110001000000010011010110100010001011010110001010000010110110010001000100010111101101011000100001010000101011000001000101101100100110010110000110001110010001111000010001011001100010010010100010000101011110011000011111001010000100010110011000010110111101111101011100000110001000001010010010100010000110101100101011100011000100010110001000100011000111010011000001100011100000100010110011000100101011011010001010111000110000111110010100000100111000000100111010010001011011111000000001111100000000100010110011000100100100000111101001001000101100001111100101000001001110000001010101011010101011010011000010010000001100110000010011100101000001000101100110111000010011001100101011110110001110100110000010001011001100010100101111100000101000001011001101101010100000101101100100111100010011011011001010001001010010100010100000001001110010100000010010000001000101100110001000100101001110011000010001100100111001100000100110110001011110000101100110110110101010011010100000100011110000101101111011001000101000000101101100100010000111110100101110000101001001101100100110010110100000101010010101100001010101101000011010110101100011101001100000101100100111001010000011111010111100111000000001011001001110010100001010001010101011110111000001111011100011\n"
     ]
    }
   ],
   "source": [
    "txta = \"leaning over the side by the perpendicular ladder of nailed cleets there and swinging towards him a pair of tastefully ornamented man ropes for at first they did not seem to bethink them that a one legged man must be too much of a cripple to use their sea bannisters but this awkwardness only lasted a minute because the strange captain observing at a glance how affairs stood cried out i see i see avast heaving there jump boys and swing over the cutting tackle as good luck would have it they had had a whale alongside a day or two previous and the great tackles were still aloft and the massive curved blubber hook now clean and dry was still attached to the end this was quickly lowered to ahab who at once comprehending it all slid his solitary thigh into the curve of the hook it was like sitting in the fluke of an anchor or the crotch of an apple tree and then giving the word held himself fast and at the same time also helped to hoist his own weight by pulling hand over hand upon one\"\n",
    "encoded = str(encode(txta,corr))\n",
    "print(encoded)"
   ]
  },
  {
   "cell_type": "code",
   "execution_count": 247,
   "id": "35c920f7",
   "metadata": {},
   "outputs": [
    {
     "name": "stdout",
     "output_type": "stream",
     "text": [
      "01010001100010011000100110000010010100100110100110111000100001010000100000011000101011001011000001010000100000011010101010100100001111001010011001011011111010011000111001001001110010000001010001100001111100000001010011001000111010011000100110000111010101110010101010101000101000110001000001111010110110100010100001000000110111000110111000010011100010100100001101110000011011000000111010100000100000011101011110101110011110011011100101100110110110010001011001000001010001101100011000010100010000011000010000010100101110011111000010011010101001000101000100010011010000101010000100000100111101000111000010010000110110000100101000100001010011001011011011010010011110101110010100100000101000110000011011011001000010101010110001110101010000010101111000110000001100001100100000011101001110100000001000010101000001101110000011111000000001110010010010010100100110110001000010100011000100000010100000110110100001000000110001001100011011011010010001000010010110101100001111000100100100000010011101001100100011110001010000100000011000100000110100001110001100100110000010100010001001011010110000111100010011000101001001001110001001111000101000010000001100000110110000010010000101000110010011000110001000000101000110001010110111101000110100110110000101000100001010000100000011000100110001001101100110100001001010001001111001101100011000101101111000001110011000001000111101111001000010100110100000101110011010001000001100001100010011110010011100011100100010111010100100010100001000000110000110101011000001101100000101011110000100001001001010110011010011000100110001000000101000110001010110101101100001110101011000100110101010011100100000011010101100010101111000000101000110101100111001000010000001101100000010100011011000001010110110001011010100001001000100011010001010110010110000001111001100001011101001111000000100110000101000110010011011010101000001010110110010000001010011001110010000001010101001000100111100001111001100001100001100010011110010011110010011100100011010000011011010000101110010100101010011101011011010010011100001010000100001010110010000110101001001011000110111000110000110000110001001111010001101010100111010100100010101010101000100111101000111010100001000000111000100000111100111010011110101110110011010000111100110000101000111001001010010001000010101100101100000001000001111101001000010010100110111110010101001000100000110101000000011011100010000011100010101010111101010010110100010100001000000110001001000010100011001001100011000100000010100011000100100001010001100100110001100001101110010000010011000100110100010100110001010010101000111101001000100001010001000100110001001101000100011100000011011010100\n"
     ]
    }
   ],
   "source": [
    "src =   [(' ', 1877), ('!', 1), (\"'\", 4), (',', 212), ('-', 5), ('.', 37), (':', 6), (';', 21),\n",
    "         ('?', 1), ('A', 10), ('B', 4), ('C', 8), ('D', 6), ('E', 7), ('F', 4), ('G', 6), \n",
    "         ('H', 2), ('I', 2), ('L', 6), ('M', 8), ('N', 2), ('O', 1), ('P', 6), ('Q', 9), \n",
    "         ('R', 5), ('S', 3), ('T', 6), ('U', 1), ('Y', 6), ('a', 1017), ('b', 175), ('c', 302),\n",
    "         ('d', 427), ('e', 1067), ('f', 46), ('g', 80), ('h', 92), ('i', 358), ('j', 34), \n",
    "         ('l', 498), ('m', 230), ('n', 550), ('o', 734), ('p', 149), ('q', 132), ('r', 508), \n",
    "         ('s', 571), ('t', 267), ('u', 391), ('v', 68), ('x', 2), ('y', 122), ('z', 34), \n",
    "         ('¡', 1), ('¿', 1), ('á', 31), ('é', 29), ('í', 95), ('ñ', 18), ('ó', 62), ('ú', 7), \n",
    "         ('ü', 1)]\n",
    "lst = shannon_code(src)\n",
    "coded = cannonical_code(lst,2,[\"0\",\"1\"])\n",
    "letters = []\n",
    "for x in src:\n",
    "    letters.append(x[0])\n",
    "corr = list(zip(letters,coded))\n",
    "txta = \"de tal manera que él quedó satisfecho de su fortaleza; y, sin querer hacer nueva experiencia della, la diputó y tuvo por celada finísima de encaje. Fue luego a ver su rocín, y, aunque tenía más cuartos que un real y más tachas que el caballo de Gonela, que tantum pellis et ossa fuit, le pareció que ni el Bucéfalo de Alejandro ni Babieca el del Cid con él se igualaban. Cuatro días se le pasaron en imaginar qué nombre le pondría; porque, según se decía él a sí mesmo, no era razón que caballo de caballero tan famoso, y tan bueno\"\n",
    "encoded = str(encode(txta,corr))\n",
    "print(encoded)"
   ]
  },
  {
   "cell_type": "code",
   "execution_count": 248,
   "id": "d8ffa042",
   "metadata": {},
   "outputs": [
    {
     "name": "stdout",
     "output_type": "stream",
     "text": [
      "declares not to have its counterpart in nature but the placing of the cap sheaf to all this blundering business was reserved for the scientific frederick cuvier brother to the famous baron in he published a natural history of whales in which he gives what he calls a picture of the sperm whale before showing that picture to any nantucketer you had best provide for your summary retreat from nantucket in a word frederick cuviers sperm whale is not a sperm whale but a squash of course he never had the benefit of a whaling voyage such men seldom have but whence he derived that picture who can tell perhaps he got it as his scientific predecessor in the same field desmarest got one of his authentic abortions that is from a chinese drawing and what sort of lively lads with the pencil those chinese are many queer cups and saucers inform us as for the sign painters whales seen in the streets hanging over the shops of oil dealers what shall be said of them they are generally\n"
     ]
    }
   ],
   "source": [
    "src = [(' ', 216026), ('a', 77948), ('b', 16886), ('c', 22523), ('d', 38233), ('e', 117141), \n",
    "       ('f', 20846), ('g', 20827), ('h', 62917), ('i', 65471), ('j', 1084), ('k', 8058), \n",
    "       ('l', 42804), ('m', 23285), ('n', 65645), ('o', 69357), ('p', 17265), ('q', 1556), \n",
    "       ('r', 52173), ('s', 64256), ('t', 88037), ('u', 26707), ('v', 8606), ('w', 22227), \n",
    "       ('x', 1034), ('y', 16877), ('z', 632)]\n",
    "lst = shannon_code(src)\n",
    "coded = cannonical_code(lst,2,[\"0\",\"1\"])\n",
    "letters = []\n",
    "for x in src:\n",
    "    letters.append(x[0])\n",
    "corr = list(zip(letters,coded))\n",
    "# print(corr)\n",
    "txtb = \"01010001110010001101001010000001110001000011100111101000000100011110000101100101010111100110000110001001000100010010001111101000011100100001110000101010100101000001000000110001110000011100010010010100010000001100010101001010000100000010001011001100010101010110100101001000110001110100110000011111001010000100010110011000100100001010101010001000101011001100101001010000100011110000010011010110100001000101101100100010001010100011011010000111001010001110000011000111010011000010101001010001000101100011100011100011000100010100100101000100010000001110001001110000101011110011010100001001010111110000000010001011001100010001100100011000011011100100011001001010110010010000010010110000001101010001110000011001001001010111000010010010100010101111011000011100000001010100100000111101000101100111000000001000111100001000101100110001001010010100111011111010001000100010101000010100000111101110000011000111000001011001100010101011010001010100011010110010001010110011010100000010000011100010010010100010000001001101000010110110010001010001111100001010110000011111001010001010010101100100110100111000100001100011100001010010101101100100100010110000101100110001001100110010101111001110001000101001010110010010000001011001100010010000100110101101100010000010000101010101100100100010010100010000001100001111100101000010001011001100010001101010100111000010011100010100101011001001101001100010101000011100101011111000000110001000101011011111010010110001110100110000010001011001001000001010101011001001000100101000100000011000010001111000001001110101011000001110001001110010010100010010010101110001101000011100000001010110011111010000000101100100101000010101000011100010100000101010110000011111010111101100010100011000100101011111000000010101100111110100010000000100011010001001111001110010100001010110000100000011010010000001100100100000100101100000111110011100001110001001110010010100010010010101110001101000000110001110000001000010100101111100000101000010010110000001101010001110000011001001001010111000010010010100010101111011000011100001000100010001101010100111000010011100010100101011001001101001100001100100010000111001111010000000100001000110101010011100001001110001010010101100100110100110001010100101000010000000100001000110110000001010000010100010101100001111100101000100100011111010001000010001001100001011001100001110001110101111001110000000010110010010100000100010110011000101010000110111000111001010110001000000111110010100000100001010010101100100110101100011101001100001010111101111101011000101001100011000100011010001001000101100010011100110111000010001001101101010100111110011100001011001010101111001100010101001010000100000101001010110011011101001000011000010110011000010100011100000110010101111001101010000010001011001001000001010101011001001000100101000100000011000101001010110111100010010000100111000001000011011010110100010101010011100000101100101010101100010000101100110001001100111101000000110001000000010100010000101101100100010001000110010001100001101110010001100100101011001001000001010101100000011010100011100100001110001100010111110000000011000111000001000101100110001000100101001110011000100101011000011011010101000001010001110001100111001010000001110001010000010011001111010000001111011100011000011111001010000101101100100010000010101000010001011001101110010001100100100000001010101000111110000010001100011110111010001000010001011001001000000110010001000100101100000111110011100000100001001000101101100011100011100010011000010101000000101010010110001110100110000001001110010100001010010101100100100000100010111110000010000001111100101000011010110010101111001101101101011000001101001001010100010001010010110001000101100001000101100110001010101001101110100100011000110100001000101101111100010011000100100010110110001110001110001001100000101000000110001001110010011101010110000101100000010100000110011100000001001001010001010101100010000010011100101000010001001010100010010000111000010001000011000111010010101111100001001110001010001000100000101000100010010101111100000000100010110011000100010110010011001110000101010100100110001110010000111000010001000101001010110010011010011100010001000100110011011100000110001110000010001011001100010001010010000001100110100100010000101100100111010011001100011101001100000111110101111001110000000010001011001100010001010110111110101011000100001111100101000011110110001101000010100011001001101001110000100010001010010101100100100000100010101100100110101101000101010000110001000100100110001010000011111001010000100010110011100111000010001011001110101100000010100000011000100110001101110001110000001001101011011010110\"\n",
    "decoded =  str(decode(txtb,corr))\n",
    "print(decoded)"
   ]
  },
  {
   "cell_type": "code",
   "execution_count": 249,
   "id": "17daa832",
   "metadata": {},
   "outputs": [
    {
     "name": "stdout",
     "output_type": "stream",
     "text": [
      "de todo punto el ejercicio de la caza, y aun la administración de su hacienda. Y llegó a tanto su curiosidad y desatino en esto, que vendió muchas hanegas de tierra de sembradura para comprar libros de caballerías en que leer, y así, llevó a su casa todos cuantos pudo haber dellos; y de todos, ningunos le parecían tan bien como los que compuso el famoso Feliciano de Silva, porque la claridad de su prosa y aquellas entricadas razones suyas le parecían de perlas, y más cuando llegaba a leer aquellos requiebros y cartas de desafíos, donde en muchas partes hallaba escrito: La razón de la sinrazón que a mi razón se hace, de tal manera mi razón enflaquece, que con razón me quejo de la vuestra fermosura. Y también cuando leía: ...los altos cielos que de vuestra divinidad divinamente con las estrellas os fortifican, y os hacen merecedora del merecimiento que merece la vuestra grandeza. Con\n"
     ]
    }
   ],
   "source": [
    "src = [(' ', 1877), ('!', 1), (\"'\", 4), (',', 212), ('-', 5), ('.', 37), (':', 6), (';', 21),\n",
    "       ('?', 1), ('A', 10), ('B', 4), ('C', 8), ('D', 6), ('E', 7), ('F', 4), ('G', 6), \n",
    "       ('H', 2), ('I', 2), ('L', 6), ('M', 8), ('N', 2), ('O', 1), ('P', 6), ('Q', 9), \n",
    "       ('R', 5), ('S', 3), ('T', 6), ('U', 1), ('Y', 6), ('a', 1017), ('b', 175), ('c', 302), \n",
    "       ('d', 427), ('e', 1067), ('f', 46), ('g', 80), ('h', 92), ('i', 358), ('j', 34), \n",
    "       ('l', 498), ('m', 230), ('n', 550), ('o', 734), ('p', 149), ('q', 132), ('r', 508), \n",
    "       ('s', 571), ('t', 267), ('u', 391), ('v', 68), ('x', 2), ('y', 122), ('z', 34), \n",
    "       ('¡', 1), ('¿', 1), ('á', 31), ('é', 29), ('í', 95), ('ñ', 18), ('ó', 62), ('ú', 7), \n",
    "       ('ü', 1)]\n",
    "lst = shannon_code(src)\n",
    "coded = cannonical_code(lst,2,[\"0\",\"1\"])\n",
    "letters = []\n",
    "for x in src:\n",
    "    letters.append(x[0])\n",
    "corr = list(zip(letters,coded))\n",
    "# print(corr)\n",
    "txtb = \"010100011000100110010001010010000010011111000001101100110010000000110110000000111010101100011011101001000101110010001011010000001010001100001100001000010010000101010101110010100010000101000100000101000001101000011000010000001001010100101010110110101011011111001100111000101001000101110101001011010000101000110000111110000000100111000101001000101100110110101010001010101010000010101110101000011000110000111010011110101001000001000010011000100110110011001000000111110000000100100100000111001011010001111010110101000100101000010100010000101000110111100101001100101101101010000000110110100000110111110011001001000100001010000100000011000101010000011011010101001011101010010001001011000010010010011100010011110001001110001001101001110100111001001111000010100011000100110010110011011100111000100000101000110000111100111001011000110111000100101010000011100010000100111100100111000100001001000100100101100111101110001001110000011000101110001101110010001111000010100011000100100001010001100100110001100001101110101001000100111100000110110100010100001000000110000110000110011011101000100001010001000001001111101001010001000001100011000011101010001010100100000100000111110000000100100001001111001000010011001000101001000111100010010010000001001101100110010001111000100111110000010100100000100111000101000110011011100000101000110110001100010001111101010101000101000100001010001100010011001000101001000111110001000001101010110110110100111100000110101000111100001100001100010011110010011100011100100101001000100110100010011000100110100010001101011001101101000100100010010010101000000110001000111100010100001000000110001001000100100101100111110000011110100000001101100000101001100010100101010001111010000010101111000100110110001011100100010110010011010100000010100011000101011110011010110110010101000001010001000010011110100011101010000100000011000011000010000100100011000010011100101101010001001010000010100011000011111000000010011110111001000111100100001010001000001010100001000000110110001100001001111000001101101100110011100101110010000100101000100111100001110001010101011101000110100110111100001111100001010001001001111000011000011000100111100100111000111001001010010001001101000010100011000100111100110111001100001001111100010000101000100010010110101100001111000100100100000010011010101001000000110001100001110100111001010001100100000010000011000011001101110000001010100001000000110110001100010001111000011100011101000010000010110011100011011100100011110001010001000100100001001110100110001001111000010100011000010100011011110010101001101010010010001111100010000010100100011010101000110000011011010001001011000010010010011100010011110001001111001001110100110001101111000100111000100110001100001010001100100000011011111001000111001011100110010010101101010000101011100000010000011100010101010111101010010110100001010001100001100001000001111010110110101110001010101011110101001011010001010000100000011000001000010010101011000011100010101010111101010010110100001111001100010011100010100100001110001000001010001100010011000100110000010010100100110100110111000100001001010101100001110001010101011110101001011010000011011011010011001100001010100001000000111001000011100010000101000010000001100010010001000110100001110001010101011110101001011010001001010011000101000010000001110101011001000000101000110000110000100001010100010000001101111100110011100010000101001100011011101001010100011111000001110001010101010000010101110101000100110001010010110001101011101011001011010001001001000000100110101010010000001100001110100100010101011010100001010101001010101001010101000110001000111100000100110010011001000111100010010001011001101100010001111000101000010000001100001010001100010101000100000011011111001100111000100000101001011101010000101101101010110101000100101000001010010111010100001011011010010100101001101101100110001100010010001000110100001100001001111000001101111100110011100011011000110000100111100001000111100010100110010001110100110010111010011001011100100001001101100010000101000100001000111100010011100010100100001101101000100101001101110001110010000110101001000111000100000101000110110000010010100110111000111001000101110010101011001101101100110010000010100001000000110001001010011011100011100100001100001100001000010101000100000011011111001100111000100001010011101110001001101010100011101010111001010101010000010101101100010001101\"\n",
    "decoded =  str(decode(txtb,corr))\n",
    "print(decoded)"
   ]
  }
 ],
 "metadata": {
  "kernelspec": {
   "display_name": "Python 3 (ipykernel)",
   "language": "python",
   "name": "python3"
  },
  "language_info": {
   "codemirror_mode": {
    "name": "ipython",
    "version": 3
   },
   "file_extension": ".py",
   "mimetype": "text/x-python",
   "name": "python",
   "nbconvert_exporter": "python",
   "pygments_lexer": "ipython3",
   "version": "3.8.10"
  }
 },
 "nbformat": 4,
 "nbformat_minor": 5
}
