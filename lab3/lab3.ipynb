{
 "cells": [
  {
   "cell_type": "code",
   "execution_count": 1,
   "id": "9097b7e0",
   "metadata": {},
   "outputs": [],
   "source": [
    "from itertools import combinations\n",
    "import math\n",
    "import bisect"
   ]
  },
  {
   "cell_type": "code",
   "execution_count": 2,
   "id": "f4720ebd",
   "metadata": {},
   "outputs": [],
   "source": [
    "proves = \"../proves/\""
   ]
  },
  {
   "cell_type": "markdown",
   "id": "8085d471",
   "metadata": {},
   "source": [
    "### Entropia\n",
    "Definiu una funció entropy(txt,k=1,pre=\"\") que calculi l’entropia d’una font\n",
    "creada a partir d’un text txt (un string de Python), on els paràmetres indiquen:\n",
    "- k és un enter > 1 que dona la longitud dels blocs de caràcters del text que es consideren\n",
    "les lletres de la font; per defecte k val 1 i per tant les lletres de l’alfabet de la font són\n",
    "lletres de les que apareixen al text.\n",
    "\n",
    "- pre és un string de Python que diu que les lletres de la font són només els blocs de k\n",
    "lletres que en el text txt venen a continuació de pre; per defecte aquest prefix és la\n",
    "paraula buida i en aquest cas s’agafen tots els blocs de longitud r."
   ]
  },
  {
   "cell_type": "code",
   "execution_count": null,
   "id": "02b95296",
   "metadata": {},
   "outputs": [],
   "source": [
    "# def entropy(txt, k, pre=\"\"):\n",
    "#     #primero detectamos las palabras con prefijo pre\n",
    "#     words = txt.split()\n",
    "#     pr_len = len(pre)\n",
    "#     text = []\n",
    "#     if(pr_len > 0):\n",
    "#         for w in words:\n",
    "#             if(w[:pr_len] == pre):\n",
    "#                 text.append(w[pr_len:])\n",
    "#     else: text = words\n",
    "#     alphabet = {}\n",
    "#     for w in text:\n",
    "#         k_len_subs = [w[x:y] for x, y \n",
    "#                       in combinations(range(len(w) + 1), r = 2) \n",
    "#                       if len(w[x:y]) == k]\n",
    "#         for x in k_len_subs:\n",
    "#             alphabet[x] = alphabet.get(x, 0) + 1\n",
    "#     #pasar de apariciones a probabilidades\n",
    "#     total = 0\n",
    "#     for _,value in alphabet.items():\n",
    "#         total += value\n",
    "#     entropy = 0\n",
    "#     for _, value in alphabet.items():\n",
    "#         prob = value/total\n",
    "#         entropy += prob * math.log((1/prob),2)\n",
    "#     return entropy"
   ]
  },
  {
   "cell_type": "code",
   "execution_count": 15,
   "id": "4ecc1457",
   "metadata": {},
   "outputs": [],
   "source": [
    "# def entropy(txt, k, pre=\"\"):\n",
    "#     pr_len = len(pre)\n",
    "#     alphabet = {}\n",
    "#     total = 0\n",
    "#     entropy = 0\n",
    "#     if(pr_len > 0): #guardaremos las palabras en una lista NO PODEMOS\n",
    "#         text = []\n",
    "#         words = txt.split()\n",
    "#         for w in words:\n",
    "#             if(w[:pr_len] == pre):\n",
    "#                 text.append(w[pr_len:pr_len+k])#me guardo los k caracteres despues del prefijo\n",
    "#         for w in text:\n",
    "#             alphabet[w] = alphabet.get(w, 0) + 1\n",
    "#         for _, value in alphabet.items():\n",
    "#             total += value\n",
    "#         for _, value in alphabet.items():\n",
    "#             prob = value/total\n",
    "#             entropy += prob * math.log((1/prob),2)\n",
    "#     else: #miraremos las palabras en el propio string que se pasa como parámetro\n",
    "#         text = txt\n",
    "#         print(text)\n",
    "#         while text:\n",
    "#             w = text[:k]\n",
    "#             alphabet[w] = alphabet.get(w, 0) + 1\n",
    "#             text = text[k:]            \n",
    "#         for _, value in alphabet.items():\n",
    "#             total += value\n",
    "#         for _, value in alphabet.items():\n",
    "#             prob = value/total\n",
    "#             entropy += prob * math.log((1/prob),2)\n",
    "#     return entropy"
   ]
  },
  {
   "cell_type": "code",
   "execution_count": 25,
   "id": "a647fa6d",
   "metadata": {},
   "outputs": [],
   "source": [
    "def entropy(txt, k, pre=\"\"):\n",
    "    alphabet = {}\n",
    "    total = 0\n",
    "    entropy = 0\n",
    "    if(pre == \"\"):\n",
    "        while txt:\n",
    "            w = txt[:k]\n",
    "            alphabet[w] = alphabet.get(w, 0) + 1\n",
    "            txt = txt[k:]\n",
    "        for _, value in alphabet.items():\n",
    "            total += value\n",
    "        for _, value in alphabet.items():\n",
    "            prob = value/total\n",
    "            entropy += prob * math.log((1/prob),2)\n",
    "    else:\n",
    "        pr_len = len(pre)\n",
    "        while txt:\n",
    "            i = txt.find(pre)\n",
    "            w = txt[i + pre_len : i + pre_len + k]\n",
    "            alphabet[w] = alphabet.get(w, 0) + 1\n",
    "            txt = txt[i + pre_len + k:]\n",
    "        for _, value in alphabet.items():\n",
    "            total += value\n",
    "        for _, value in alphabet.items():\n",
    "            prob = value/total\n",
    "            entropy += prob * math.log((1/prob),2)\n",
    "    return entropy"
   ]
  },
  {
   "cell_type": "code",
   "execution_count": 5,
   "id": "0d37fcc2",
   "metadata": {},
   "outputs": [
    {
     "data": {
      "text/plain": [
       "'el ingenioso hidalgo don quijote de la mancha tasa yo juan gallo de andrada escribano de camara del rey nuestro senor de los que residen en su consejo certifico y doy fe que habiendo visto por los senores del un libro intitulado el ingenioso hidalgo de la mancha compuesto por miguel de cervantes saavedra tasaron cada pliego del dicho libro a tres maravedis y medio el cual tiene ochenta y tres pliegos que al dicho precio monta el dicho libro docientos y noventa maravedis y medio en que se ha de vender en papel y dieron licencia para que a este precio se pueda vender y mandaron que esta tasa se ponga al principio del dicho libro y no se pueda vender sin ella y para que dello conste di la presente en valladolid a veinte dias del mes de deciembre de mil y seiscientos y cuatro anos juan gallo de andrada testimonio de las erratas este libro no tiene cosa digna que no corresponda a su original en testimonio de lo haber correcto di esta fee en el colegio de la madre de dios de los teologos de '"
      ]
     },
     "execution_count": 5,
     "metadata": {},
     "output_type": "execute_result"
    }
   ],
   "source": [
    "quijote = open(proves+\"quijote_clean.txt\", \"r\",encoding=\"utf-8\").read(); quijote[:1000]"
   ]
  },
  {
   "cell_type": "code",
   "execution_count": null,
   "id": "6120889d",
   "metadata": {},
   "outputs": [
    {
     "name": "stderr",
     "output_type": "stream",
     "text": [
      "IOPub data rate exceeded.\n",
      "The notebook server will temporarily stop sending output\n",
      "to the client in order to avoid crashing it.\n",
      "To change this limit, set the config variable\n",
      "`--NotebookApp.iopub_data_rate_limit`.\n",
      "\n",
      "Current values:\n",
      "NotebookApp.iopub_data_rate_limit=1000000.0 (bytes/sec)\n",
      "NotebookApp.rate_limit_window=3.0 (secs)\n",
      "\n"
     ]
    }
   ],
   "source": [
    "[entropy(quijote,k) for k in range(1,5)]#testear en casa pq aqui se puede tirar facilmente 9209298 años"
   ]
  },
  {
   "cell_type": "code",
   "execution_count": null,
   "id": "a9ca6f7a",
   "metadata": {},
   "outputs": [],
   "source": [
    "entropy(quijote,1)#testear en casa tmb, mas rapido"
   ]
  },
  {
   "cell_type": "markdown",
   "id": "33f6dd99",
   "metadata": {},
   "source": [
    "## Longitud mitjana"
   ]
  },
  {
   "cell_type": "code",
   "execution_count": null,
   "id": "09b76fe7",
   "metadata": {},
   "outputs": [],
   "source": [
    "def mean_length(src, code):\n",
    "    total = 0\n",
    "    for _, w in src:\n",
    "        total += w\n",
    "    probs = []\n",
    "    for _, w in src:\n",
    "        probs.append(w/total)\n",
    "    mean_len = 0\n",
    "    for p,c in zip(probs,code):\n",
    "        mean_len += p * len(c)\n",
    "    return mean_len"
   ]
  },
  {
   "cell_type": "markdown",
   "id": "ace93110",
   "metadata": {},
   "source": [
    "## Codi de Huffman"
   ]
  },
  {
   "cell_type": "code",
   "execution_count": 3,
   "id": "52d1b499",
   "metadata": {},
   "outputs": [],
   "source": [
    "class Node:\n",
    "    def __init__(self, freq, sym, left=None, right=None):\n",
    "        self.freq = freq\n",
    "        self.sym = sym\n",
    "        self.left = left\n",
    "        self.right = right\n",
    "        self.code = \"\"#0 o 1, depende de la dirección"
   ]
  },
  {
   "cell_type": "code",
   "execution_count": 4,
   "id": "578bb09a",
   "metadata": {},
   "outputs": [],
   "source": [
    "def huffman_code(src):\n",
    "    total = 0\n",
    "    for _, w in src:\n",
    "        total += w\n",
    "    src.sort(key=lambda x: x[1], reverse=True)\n",
    "    #no se como hacer lo de los nodos la vd q coñazo, ademas hay q hacer un insert con selection PQ EL BISECT NO VA"
   ]
  },
  {
   "cell_type": "code",
   "execution_count": 6,
   "id": "4b7f0b33",
   "metadata": {},
   "outputs": [
    {
     "ename": "TypeError",
     "evalue": "'key' is an invalid keyword argument for insort_right()",
     "output_type": "error",
     "traceback": [
      "\u001b[0;31m---------------------------------------------------------------------------\u001b[0m",
      "\u001b[0;31mTypeError\u001b[0m                                 Traceback (most recent call last)",
      "Cell \u001b[0;32mIn [6], line 4\u001b[0m\n\u001b[1;32m      2\u001b[0m src\u001b[38;5;241m.\u001b[39msort(key \u001b[38;5;241m=\u001b[39m \u001b[38;5;28;01mlambda\u001b[39;00m x:x[\u001b[38;5;241m1\u001b[39m], reverse\u001b[38;5;241m=\u001b[39m\u001b[38;5;28;01mTrue\u001b[39;00m)\n\u001b[1;32m      3\u001b[0m x \u001b[38;5;241m=\u001b[39m (\u001b[38;5;241m11\u001b[39m,\u001b[38;5;241m3\u001b[39m)\n\u001b[0;32m----> 4\u001b[0m \u001b[43mbisect\u001b[49m\u001b[38;5;241;43m.\u001b[39;49m\u001b[43minsort\u001b[49m\u001b[43m(\u001b[49m\u001b[43msrc\u001b[49m\u001b[43m,\u001b[49m\u001b[43m \u001b[49m\u001b[43mx\u001b[49m\u001b[43m,\u001b[49m\u001b[43m \u001b[49m\u001b[43mkey\u001b[49m\u001b[38;5;241;43m=\u001b[39;49m\u001b[38;5;28;43;01mNone\u001b[39;49;00m\u001b[43m)\u001b[49m\n",
      "\u001b[0;31mTypeError\u001b[0m: 'key' is an invalid keyword argument for insort_right()"
     ]
    }
   ],
   "source": [
    "src = [(10,4), (5,9), (10,1), (147,2)]\n",
    "src.sort(key = lambda x:x[1], reverse=True)\n",
    "x = (11,3)\n",
    "bisect.insort(src, x, key=None)"
   ]
  },
  {
   "cell_type": "markdown",
   "id": "1c9dd158",
   "metadata": {},
   "source": [
    "## Codificació aritmètica"
   ]
  },
  {
   "cell_type": "code",
   "execution_count": null,
   "id": "c89520c9",
   "metadata": {},
   "outputs": [],
   "source": [
    "def arithmetic_encode(txt,k):\n",
    "    "
   ]
  },
  {
   "cell_type": "code",
   "execution_count": null,
   "id": "075c6b07",
   "metadata": {},
   "outputs": [],
   "source": [
    "def arithmetic_decode(code,k,src,len):\n",
    "    "
   ]
  }
 ],
 "metadata": {
  "kernelspec": {
   "display_name": "Python 3 (ipykernel)",
   "language": "python",
   "name": "python3"
  },
  "language_info": {
   "codemirror_mode": {
    "name": "ipython",
    "version": 3
   },
   "file_extension": ".py",
   "mimetype": "text/x-python",
   "name": "python",
   "nbconvert_exporter": "python",
   "pygments_lexer": "ipython3",
   "version": "3.8.10"
  }
 },
 "nbformat": 4,
 "nbformat_minor": 5
}
